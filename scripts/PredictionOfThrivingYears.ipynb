{
 "cells": [
  {
   "cell_type": "code",
   "execution_count": 1,
   "metadata": {},
   "outputs": [],
   "source": [
    "import pandas as pd\n",
    "from sklearn.model_selection import train_test_split\n",
    "from sklearn import linear_model\n",
    "import numpy as np\n",
    "from sklearn.metrics import accuracy_score\n",
    "from sklearn.metrics import explained_variance_score\n",
    "from sklearn.metrics import mean_squared_error\n",
    "from sklearn.metrics import mean_absolute_error\n",
    "import eli5\n",
    "from eli5.sklearn import PermutationImportance\n",
    "import pickle"
   ]
  },
  {
   "cell_type": "code",
   "execution_count": 2,
   "metadata": {},
   "outputs": [],
   "source": [
    "def loadPickle(name):\n",
    "    return pickle.load(open('pickles/{}.pickle'.format(name),'rb'))\n",
    "\n",
    "\n",
    "def reWriteTicks(ticks):\n",
    "    for i in range(len(ticks)):\n",
    "        tick = ticks[i].split('_')\n",
    "        if len(tick)==2:\n",
    "            supportType = tick[0]\n",
    "            if supportType == 'ds':\n",
    "                ticks[i] = tick[1].capitalize()+' ({})'.format('Df')\n",
    "            elif supportType =='s':\n",
    "                ticks[i] = tick[1].capitalize()+' ({})'.format('A')\n",
    "        elif ticks[i]=='domsup':\n",
    "            ticks[i]='Domestic'\n",
    "    return ticks\n",
    "\n",
    "\n",
    "new_headers = loadPickle('new_headers')"
   ]
  },
  {
   "cell_type": "code",
   "execution_count": 3,
   "metadata": {},
   "outputs": [],
   "source": [
    "fname='regression_v.csv'\n",
    "headers=open(fname,'r').readline().strip().split(',')\n",
    "n=len(headers)\n",
    "\n",
    "df = pd.read_csv(fname,low_memory=False,usecols=[i for i in range(0,n)],header=None)\n",
    "df = df.replace('',np.nan, regex=True)\n",
    "\n",
    "df.dropna(how='any', inplace=True)"
   ]
  },
  {
   "cell_type": "code",
   "execution_count": 4,
   "metadata": {},
   "outputs": [
    {
     "data": {
      "text/plain": [
       "['0.8666666666666666',\n",
       " '1.0',\n",
       " '0.8666666666666666',\n",
       " '0.8666666666666666',\n",
       " '1.0',\n",
       " '1.0',\n",
       " '1.0',\n",
       " '1.0',\n",
       " '1.0',\n",
       " '0.13333333333333333',\n",
       " '1.0',\n",
       " '1.0',\n",
       " '1.0',\n",
       " '1.0',\n",
       " '0.13333333333333333',\n",
       " '0.13333333333333333',\n",
       " '1.0',\n",
       " '1.0',\n",
       " '0.29411764705882354',\n",
       " '0.47058823529411764',\n",
       " '0.2222222222222222',\n",
       " '0.2777777777777778',\n",
       " '1',\n",
       " '9']"
      ]
     },
     "execution_count": 4,
     "metadata": {},
     "output_type": "execute_result"
    }
   ],
   "source": [
    "headers"
   ]
  },
  {
   "cell_type": "code",
   "execution_count": 5,
   "metadata": {},
   "outputs": [],
   "source": [
    "X = df.drop(23, axis=1)\n",
    "X=(X-X.min())/(X.max()-X.min())\n",
    "\n",
    "\n",
    "y = df[23]\n",
    "maxYear = y.max()\n",
    "minYear = y.min()\n",
    "y=(y-y.min())/(y.max()-y.min())\n",
    "\n",
    "X_train, X_test, y_train, y_test = train_test_split(X, y, test_size=0.3)"
   ]
  },
  {
   "cell_type": "code",
   "execution_count": 6,
   "metadata": {},
   "outputs": [
    {
     "data": {
      "text/plain": [
       "BayesianRidge(alpha_1=1e-06, alpha_2=1e-06, compute_score=False, copy_X=True,\n",
       "       fit_intercept=True, lambda_1=1e-06, lambda_2=1e-06, n_iter=300,\n",
       "       normalize=False, tol=0.001, verbose=False)"
      ]
     },
     "execution_count": 6,
     "metadata": {},
     "output_type": "execute_result"
    }
   ],
   "source": [
    "reg = linear_model.BayesianRidge()\n",
    "reg.fit(X, y)"
   ]
  },
  {
   "cell_type": "code",
   "execution_count": 15,
   "metadata": {},
   "outputs": [],
   "source": [
    "perm = PermutationImportance(reg).fit(X, y)"
   ]
  },
  {
   "cell_type": "code",
   "execution_count": 17,
   "metadata": {
    "scrolled": true
   },
   "outputs": [
    {
     "data": {
      "text/plain": [
       "[0,\n",
       " 1,\n",
       " 2,\n",
       " 3,\n",
       " 4,\n",
       " 5,\n",
       " 6,\n",
       " 7,\n",
       " 8,\n",
       " 9,\n",
       " 10,\n",
       " 11,\n",
       " 12,\n",
       " 13,\n",
       " 14,\n",
       " 15,\n",
       " 16,\n",
       " 17,\n",
       " 18,\n",
       " 19,\n",
       " 20,\n",
       " 21,\n",
       " 22]"
      ]
     },
     "execution_count": 17,
     "metadata": {},
     "output_type": "execute_result"
    }
   ],
   "source": [
    "df.columns.tolist()[0:23]"
   ]
  },
  {
   "cell_type": "code",
   "execution_count": 44,
   "metadata": {},
   "outputs": [
    {
     "data": {
      "text/html": [
       "\n",
       "    <style>\n",
       "    table.eli5-weights tr:hover {\n",
       "        filter: brightness(85%);\n",
       "    }\n",
       "</style>\n",
       "\n",
       "\n",
       "\n",
       "    \n",
       "\n",
       "    \n",
       "\n",
       "    \n",
       "\n",
       "    \n",
       "\n",
       "    \n",
       "\n",
       "    \n",
       "\n",
       "\n",
       "    \n",
       "\n",
       "    \n",
       "\n",
       "    \n",
       "\n",
       "    \n",
       "\n",
       "    \n",
       "\n",
       "    \n",
       "\n",
       "\n",
       "    \n",
       "\n",
       "    \n",
       "\n",
       "    \n",
       "\n",
       "    \n",
       "\n",
       "    \n",
       "        <table class=\"eli5-weights eli5-feature-importances\" style=\"border-collapse: collapse; border: none; margin-top: 0em; table-layout: auto;\">\n",
       "    <thead>\n",
       "    <tr style=\"border: none;\">\n",
       "        <th style=\"padding: 0 1em 0 0.5em; text-align: right; border: none;\">Weight</th>\n",
       "        <th style=\"padding: 0 0.5em 0 0.5em; text-align: left; border: none;\">Feature</th>\n",
       "    </tr>\n",
       "    </thead>\n",
       "    <tbody>\n",
       "    \n",
       "        <tr style=\"background-color: hsl(120, 100.00%, 80.00%); border: none;\">\n",
       "            <td style=\"padding: 0 1em 0 0.5em; text-align: right; border: none;\">\n",
       "                0.4928\n",
       "                \n",
       "                    &plusmn; 0.1043\n",
       "                \n",
       "            </td>\n",
       "            <td style=\"padding: 0 0.5em 0 0.5em; text-align: left; border: none;\">\n",
       "                Year from BRD\n",
       "            </td>\n",
       "        </tr>\n",
       "    \n",
       "        <tr style=\"background-color: hsl(120, 100.00%, 95.37%); border: none;\">\n",
       "            <td style=\"padding: 0 1em 0 0.5em; text-align: right; border: none;\">\n",
       "                0.0609\n",
       "                \n",
       "                    &plusmn; 0.0193\n",
       "                \n",
       "            </td>\n",
       "            <td style=\"padding: 0 0.5em 0 0.5em; text-align: left; border: none;\">\n",
       "                Traincamp (Df)\n",
       "            </td>\n",
       "        </tr>\n",
       "    \n",
       "        <tr style=\"background-color: hsl(120, 100.00%, 95.59%); border: none;\">\n",
       "            <td style=\"padding: 0 1em 0 0.5em; text-align: right; border: none;\">\n",
       "                0.0568\n",
       "                \n",
       "                    &plusmn; 0.0176\n",
       "                \n",
       "            </td>\n",
       "            <td style=\"padding: 0 0.5em 0 0.5em; text-align: left; border: none;\">\n",
       "                Objective (De-facto Support)\n",
       "            </td>\n",
       "        </tr>\n",
       "    \n",
       "        <tr style=\"background-color: hsl(120, 100.00%, 95.70%); border: none;\">\n",
       "            <td style=\"padding: 0 1em 0 0.5em; text-align: right; border: none;\">\n",
       "                0.0548\n",
       "                \n",
       "                    &plusmn; 0.0130\n",
       "                \n",
       "            </td>\n",
       "            <td style=\"padding: 0 0.5em 0 0.5em; text-align: left; border: none;\">\n",
       "                Training (Df)\n",
       "            </td>\n",
       "        </tr>\n",
       "    \n",
       "        <tr style=\"background-color: hsl(120, 100.00%, 97.62%); border: none;\">\n",
       "            <td style=\"padding: 0 1em 0 0.5em; text-align: right; border: none;\">\n",
       "                0.0236\n",
       "                \n",
       "                    &plusmn; 0.0125\n",
       "                \n",
       "            </td>\n",
       "            <td style=\"padding: 0 0.5em 0 0.5em; text-align: left; border: none;\">\n",
       "                Safemem (A)\n",
       "            </td>\n",
       "        </tr>\n",
       "    \n",
       "        <tr style=\"background-color: hsl(120, 100.00%, 97.95%); border: none;\">\n",
       "            <td style=\"padding: 0 1em 0 0.5em; text-align: right; border: none;\">\n",
       "                0.0190\n",
       "                \n",
       "                    &plusmn; 0.0070\n",
       "                \n",
       "            </td>\n",
       "            <td style=\"padding: 0 0.5em 0 0.5em; text-align: left; border: none;\">\n",
       "                Safelead (A)\n",
       "            </td>\n",
       "        </tr>\n",
       "    \n",
       "        <tr style=\"background-color: hsl(120, 100.00%, 98.31%); border: none;\">\n",
       "            <td style=\"padding: 0 1em 0 0.5em; text-align: right; border: none;\">\n",
       "                0.0145\n",
       "                \n",
       "                    &plusmn; 0.0060\n",
       "                \n",
       "            </td>\n",
       "            <td style=\"padding: 0 0.5em 0 0.5em; text-align: left; border: none;\">\n",
       "                Domestic\n",
       "            </td>\n",
       "        </tr>\n",
       "    \n",
       "        <tr style=\"background-color: hsl(120, 100.00%, 98.50%); border: none;\">\n",
       "            <td style=\"padding: 0 1em 0 0.5em; text-align: right; border: none;\">\n",
       "                0.0122\n",
       "                \n",
       "                    &plusmn; 0.0121\n",
       "                \n",
       "            </td>\n",
       "            <td style=\"padding: 0 0.5em 0 0.5em; text-align: left; border: none;\">\n",
       "                Finaid (Df)\n",
       "            </td>\n",
       "        </tr>\n",
       "    \n",
       "        <tr style=\"background-color: hsl(120, 100.00%, 98.51%); border: none;\">\n",
       "            <td style=\"padding: 0 1em 0 0.5em; text-align: right; border: none;\">\n",
       "                0.0120\n",
       "                \n",
       "                    &plusmn; 0.0107\n",
       "                \n",
       "            </td>\n",
       "            <td style=\"padding: 0 0.5em 0 0.5em; text-align: left; border: none;\">\n",
       "                Finaid (A)\n",
       "            </td>\n",
       "        </tr>\n",
       "    \n",
       "        <tr style=\"background-color: hsl(120, 100.00%, 98.71%); border: none;\">\n",
       "            <td style=\"padding: 0 1em 0 0.5em; text-align: right; border: none;\">\n",
       "                0.0099\n",
       "                \n",
       "                    &plusmn; 0.0086\n",
       "                \n",
       "            </td>\n",
       "            <td style=\"padding: 0 0.5em 0 0.5em; text-align: left; border: none;\">\n",
       "                Troop (A)\n",
       "            </td>\n",
       "        </tr>\n",
       "    \n",
       "        <tr style=\"background-color: hsl(120, 100.00%, 99.14%); border: none;\">\n",
       "            <td style=\"padding: 0 1em 0 0.5em; text-align: right; border: none;\">\n",
       "                0.0055\n",
       "                \n",
       "                    &plusmn; 0.0030\n",
       "                \n",
       "            </td>\n",
       "            <td style=\"padding: 0 0.5em 0 0.5em; text-align: left; border: none;\">\n",
       "                Transport (Df)\n",
       "            </td>\n",
       "        </tr>\n",
       "    \n",
       "        <tr style=\"background-color: hsl(120, 100.00%, 99.33%); border: none;\">\n",
       "            <td style=\"padding: 0 1em 0 0.5em; text-align: right; border: none;\">\n",
       "                0.0038\n",
       "                \n",
       "                    &plusmn; 0.0042\n",
       "                \n",
       "            </td>\n",
       "            <td style=\"padding: 0 0.5em 0 0.5em; text-align: left; border: none;\">\n",
       "                Ideology (De-facto Support)\n",
       "            </td>\n",
       "        </tr>\n",
       "    \n",
       "        <tr style=\"background-color: hsl(120, 100.00%, 99.36%); border: none;\">\n",
       "            <td style=\"padding: 0 1em 0 0.5em; text-align: right; border: none;\">\n",
       "                0.0036\n",
       "                \n",
       "                    &plusmn; 0.0045\n",
       "                \n",
       "            </td>\n",
       "            <td style=\"padding: 0 0.5em 0 0.5em; text-align: left; border: none;\">\n",
       "                Objective (Active Support)\n",
       "            </td>\n",
       "        </tr>\n",
       "    \n",
       "        <tr style=\"background-color: hsl(120, 100.00%, 99.65%); border: none;\">\n",
       "            <td style=\"padding: 0 1em 0 0.5em; text-align: right; border: none;\">\n",
       "                0.0016\n",
       "                \n",
       "                    &plusmn; 0.0028\n",
       "                \n",
       "            </td>\n",
       "            <td style=\"padding: 0 0.5em 0 0.5em; text-align: left; border: none;\">\n",
       "                Weaponlog (Df)\n",
       "            </td>\n",
       "        </tr>\n",
       "    \n",
       "        <tr style=\"background-color: hsl(120, 100.00%, 99.70%); border: none;\">\n",
       "            <td style=\"padding: 0 1em 0 0.5em; text-align: right; border: none;\">\n",
       "                0.0012\n",
       "                \n",
       "                    &plusmn; 0.0023\n",
       "                \n",
       "            </td>\n",
       "            <td style=\"padding: 0 0.5em 0 0.5em; text-align: left; border: none;\">\n",
       "                Training (A)\n",
       "            </td>\n",
       "        </tr>\n",
       "    \n",
       "        <tr style=\"background-color: hsl(120, 100.00%, 99.76%); border: none;\">\n",
       "            <td style=\"padding: 0 1em 0 0.5em; text-align: right; border: none;\">\n",
       "                0.0009\n",
       "                \n",
       "                    &plusmn; 0.0111\n",
       "                \n",
       "            </td>\n",
       "            <td style=\"padding: 0 0.5em 0 0.5em; text-align: left; border: none;\">\n",
       "                Weaponlog (A)\n",
       "            </td>\n",
       "        </tr>\n",
       "    \n",
       "        <tr style=\"background-color: hsl(120, 100.00%, 99.76%); border: none;\">\n",
       "            <td style=\"padding: 0 1em 0 0.5em; text-align: right; border: none;\">\n",
       "                0.0009\n",
       "                \n",
       "                    &plusmn; 0.0016\n",
       "                \n",
       "            </td>\n",
       "            <td style=\"padding: 0 0.5em 0 0.5em; text-align: left; border: none;\">\n",
       "                Safelead (Df)\n",
       "            </td>\n",
       "        </tr>\n",
       "    \n",
       "        <tr style=\"background-color: hsl(120, 100.00%, 99.77%); border: none;\">\n",
       "            <td style=\"padding: 0 1em 0 0.5em; text-align: right; border: none;\">\n",
       "                0.0008\n",
       "                \n",
       "                    &plusmn; 0.0028\n",
       "                \n",
       "            </td>\n",
       "            <td style=\"padding: 0 0.5em 0 0.5em; text-align: left; border: none;\">\n",
       "                Headquar (A)\n",
       "            </td>\n",
       "        </tr>\n",
       "    \n",
       "        <tr style=\"background-color: hsl(120, 100.00%, 99.81%); border: none;\">\n",
       "            <td style=\"padding: 0 1em 0 0.5em; text-align: right; border: none;\">\n",
       "                0.0006\n",
       "                \n",
       "                    &plusmn; 0.0029\n",
       "                \n",
       "            </td>\n",
       "            <td style=\"padding: 0 0.5em 0 0.5em; text-align: left; border: none;\">\n",
       "                Headquar (Df)\n",
       "            </td>\n",
       "        </tr>\n",
       "    \n",
       "        <tr style=\"background-color: hsl(120, 100.00%, 99.89%); border: none;\">\n",
       "            <td style=\"padding: 0 1em 0 0.5em; text-align: right; border: none;\">\n",
       "                0.0003\n",
       "                \n",
       "                    &plusmn; 0.0039\n",
       "                \n",
       "            </td>\n",
       "            <td style=\"padding: 0 0.5em 0 0.5em; text-align: left; border: none;\">\n",
       "                Safemem (Df)\n",
       "            </td>\n",
       "        </tr>\n",
       "    \n",
       "    \n",
       "        \n",
       "            <tr style=\"background-color: hsl(120, 100.00%, 99.89%); border: none;\">\n",
       "                <td colspan=\"2\" style=\"padding: 0 0.5em 0 0.5em; text-align: center; border: none; white-space: nowrap;\">\n",
       "                    <i>&hellip; 3 more &hellip;</i>\n",
       "                </td>\n",
       "            </tr>\n",
       "        \n",
       "    \n",
       "    </tbody>\n",
       "</table>\n",
       "    \n",
       "\n",
       "    \n",
       "\n",
       "\n",
       "    \n",
       "\n",
       "    \n",
       "\n",
       "    \n",
       "\n",
       "    \n",
       "\n",
       "    \n",
       "\n",
       "    \n",
       "\n",
       "\n",
       "\n"
      ],
      "text/plain": [
       "Explanation(estimator=\"PermutationImportance(cv='prefit',\\n           estimator=BayesianRidge(alpha_1=1e-06, alpha_2=1e-06, compute_score=False, copy_X=True,\\n       fit_intercept=True, lambda_1=1e-06, lambda_2=1e-06, n_iter=300,\\n       normalize=False, tol=0.001, verbose=False),\\n           n_iter=5, random_state=None, refit=True, scoring=None)\", description=\"\\nFeature importances, computed as a decrease in score when feature\\nvalues are permuted (i.e. become noise). This is also known as \\npermutation importance.\\n\\nIf feature importances are computed on the same data as used for training, \\nthey don't reflect importance of features for generalization. Use a held-out\\ndataset if you want generalization feature importances.\\n\", error=None, method='feature importances', is_regression=True, targets=None, feature_importances=FeatureImportances(importances=[FeatureWeight(feature='Year from BRD', weight=0.49277655365142081, std=0.052146314447261768, value=None), FeatureWeight(feature='Traincamp (Df)', weight=0.060891272281713725, std=0.0096398795113660698, value=None), FeatureWeight(feature='Objective (De-facto Support)', weight=0.056848878514159117, std=0.0088120540126311268, value=None), FeatureWeight(feature='Training (Df)', weight=0.054771439154541614, std=0.0064928194787376055, value=None), FeatureWeight(feature='Safemem (A)', weight=0.023588647050212196, std=0.0062358712633273613, value=None), FeatureWeight(feature='Safelead (A)', weight=0.018987332147135817, std=0.0034764866573792118, value=None), FeatureWeight(feature='Domestic', weight=0.01449848260744302, std=0.003014443998151952, value=None), FeatureWeight(feature='Finaid (Df)', weight=0.01220733005327459, std=0.0060311577519293726, value=None), FeatureWeight(feature='Finaid (A)', weight=0.012027897801736853, std=0.0053720465386788586, value=None), FeatureWeight(feature='Troop (A)', weight=0.0098524877995097571, std=0.0042927808624098809, value=None), FeatureWeight(feature='Transport (Df)', weight=0.005472523386997552, std=0.0015110022887728461, value=None), FeatureWeight(feature='Ideology (De-facto Support)', weight=0.0038376544612732212, std=0.0021073958473456626, value=None), FeatureWeight(feature='Objective (Active Support)', weight=0.0035874398065769862, std=0.0022691925671191426, value=None), FeatureWeight(feature='Weaponlog (Df)', weight=0.0015532610424603855, std=0.0013908554967503673, value=None), FeatureWeight(feature='Training (A)', weight=0.0012021234918115464, std=0.0011678390266980534, value=None), FeatureWeight(feature='Weaponlog (A)', weight=0.00091000057064891669, std=0.0055250892683397874, value=None), FeatureWeight(feature='Safelead (Df)', weight=0.00090222839684332983, std=0.00080496629289589759, value=None), FeatureWeight(feature='Headquar (A)', weight=0.00081656638159750545, std=0.0014248380791596514, value=None), FeatureWeight(feature='Headquar (Df)', weight=0.00062334747575674141, std=0.0014360356980115264, value=None), FeatureWeight(feature='Safemem (Df)', weight=0.00028076979344908714, std=0.0019519418267677287, value=None)], remaining=3), decision_tree=None, highlight_spaces=None, transition_features=None)"
      ]
     },
     "execution_count": 44,
     "metadata": {},
     "output_type": "execute_result"
    }
   ],
   "source": [
    "new_headers = reWriteTicks(new_headers[0:23])\n",
    "eli5.explain_weights(perm,feature_names=new_headers)"
   ]
  },
  {
   "cell_type": "code",
   "execution_count": 45,
   "metadata": {},
   "outputs": [
    {
     "data": {
      "text/plain": [
       "BayesianRidge(alpha_1=1e-06, alpha_2=1e-06, compute_score=False, copy_X=True,\n",
       "       fit_intercept=True, lambda_1=1e-06, lambda_2=1e-06, n_iter=300,\n",
       "       normalize=False, tol=0.001, verbose=False)"
      ]
     },
     "execution_count": 45,
     "metadata": {},
     "output_type": "execute_result"
    }
   ],
   "source": [
    "reg"
   ]
  },
  {
   "cell_type": "code",
   "execution_count": 43,
   "metadata": {},
   "outputs": [
    {
     "data": {
      "text/plain": [
       "['Safemem (A)',\n",
       " 'Safelead (A)',\n",
       " 'Headquar (A)',\n",
       " 'Traincamp (A)',\n",
       " 'Training (A)',\n",
       " 'Weaponlog (A)',\n",
       " 'Finaid (A)',\n",
       " 'Transport (A)',\n",
       " 'Troop (A)',\n",
       " 'Safemem (Df)',\n",
       " 'Safelead (Df)',\n",
       " 'Headquar (Df)',\n",
       " 'Traincamp (Df)',\n",
       " 'Training (Df)',\n",
       " 'Weaponlog (Df)',\n",
       " 'Finaid (Df)',\n",
       " 'Transport (Df)',\n",
       " 'Domestic',\n",
       " 'Ideology (Active Support)',\n",
       " 'Ideology (De-facto Support)',\n",
       " 'Objective (Active Support)',\n",
       " 'Objective (De-facto Support)',\n",
       " 'Year from BRD']"
      ]
     },
     "execution_count": 43,
     "metadata": {},
     "output_type": "execute_result"
    }
   ],
   "source": [
    "new_headers"
   ]
  },
  {
   "cell_type": "code",
   "execution_count": 139,
   "metadata": {},
   "outputs": [],
   "source": [
    "y_predict = reg.predict(X)"
   ]
  },
  {
   "cell_type": "code",
   "execution_count": 142,
   "metadata": {},
   "outputs": [
    {
     "name": "stdout",
     "output_type": "stream",
     "text": [
      "0.0208892266061 0.531993726023\n"
     ]
    }
   ],
   "source": [
    "mse = mean_squared_error(y,y_predict)\n",
    "var_error = explained_variance_score(y,y_predict)\n",
    "\n",
    "print(mse,var_error)"
   ]
  },
  {
   "cell_type": "code",
   "execution_count": 125,
   "metadata": {},
   "outputs": [],
   "source": [
    "def predictThrivingYears(x,y,z,a,b,c): \n",
    "    activeSupportDeprivation = x\n",
    "    defactoSupportDeprivation = y\n",
    "    domesticSupportDeprivation = z\n",
    "    Support_Ideology = a\n",
    "    Support_Objective = b\n",
    "    BRD_After_Years = (c - minYear)/(maxYear-minYear)\n",
    "\n",
    "\n",
    "    temp = [activeSupportDeprivation]*9 + [defactoSupportDeprivation]*8 + [domesticSupportDeprivation]\n",
    "    temp = temp + [Support_Ideology]*2 + [Support_Objective]*2 +[BRD_After_Years]\n",
    "    \n",
    "    year = reg.predict([temp])*(maxYear-minYear)+minYear\n",
    "    year = year[0] if year[0]>=0 else 0\n",
    "    \n",
    "    print(\"Predicted thriving years: \",year)"
   ]
  },
  {
   "cell_type": "code",
   "execution_count": 126,
   "metadata": {},
   "outputs": [
    {
     "name": "stdout",
     "output_type": "stream",
     "text": [
      "Predicted thriving years:  8.51959767909\n"
     ]
    }
   ],
   "source": [
    "# Test-cases - A\n",
    "\n",
    "x = 1 # Active Support Deprivation\n",
    "y = 1 # DeFacto Support Deprivation\n",
    "z = 1 # Domestic Support Deprivation\n",
    "a = 0.5 # Probability for receving support based upon ideology\n",
    "b = 0.5 # Probability for receiving support based upon objective\n",
    "c = 4 # Years after 25 BRD took place\n",
    "\n",
    "predictThrivingYears(x,y,z,a,b,c)"
   ]
  },
  {
   "cell_type": "code",
   "execution_count": 127,
   "metadata": {},
   "outputs": [
    {
     "name": "stdout",
     "output_type": "stream",
     "text": [
      "Predicted thriving years:  16.7682170492\n"
     ]
    }
   ],
   "source": [
    "# Test-cases - B\n",
    "\n",
    "x = 0 # Active Support Deprivation\n",
    "y = 0 # DeFacto Support Deprivation\n",
    "z = 0 # Domestic Support Deprivation\n",
    "a = 0.5 # Probability for receving support based upon ideology\n",
    "b = 0.5 # Probability for receiving support based upon objective\n",
    "c = 4 # Years after 25 BRD took place\n",
    "\n",
    "predictThrivingYears(x,y,z,a,b,c)"
   ]
  },
  {
   "cell_type": "code",
   "execution_count": 128,
   "metadata": {},
   "outputs": [
    {
     "name": "stdout",
     "output_type": "stream",
     "text": [
      "Predicted thriving years:  0.333873342085\n"
     ]
    }
   ],
   "source": [
    "# Test-cases - C\n",
    "\n",
    "x = 1 # Active Support Deprivation\n",
    "y = 1 # DeFacto Support Deprivation\n",
    "z = 1 # Domestic Support Deprivation\n",
    "a = 0 # Probability for receving support based upon ideology\n",
    "b = 0 # Probability for receiving support based upon objective\n",
    "c = 4 # Years after 25 BRD took place\n",
    "\n",
    "predictThrivingYears(x,y,z,a,b,c)"
   ]
  },
  {
   "cell_type": "code",
   "execution_count": 129,
   "metadata": {},
   "outputs": [
    {
     "name": "stdout",
     "output_type": "stream",
     "text": [
      "Predicted thriving years:  0\n"
     ]
    }
   ],
   "source": [
    "# Test-cases - D\n",
    "\n",
    "x = 1 # Active Support Deprivation\n",
    "y = 1 # DeFacto Support Deprivation\n",
    "z = 1 # Domestic Support Deprivation\n",
    "a = 0 # Probability for receving support based upon ideology\n",
    "b = 0 # Probability for receiving support based upon objective\n",
    "c = 0 # Years after 25 BRD took place\n",
    "\n",
    "predictThrivingYears(x,y,z,a,b,c)"
   ]
  },
  {
   "cell_type": "code",
   "execution_count": 131,
   "metadata": {},
   "outputs": [
    {
     "name": "stdout",
     "output_type": "stream",
     "text": [
      "Predicted thriving years:  6.5423338438\n"
     ]
    }
   ],
   "source": [
    "# Test-cases - E\n",
    "\n",
    "x = 0 # Active Support Deprivation\n",
    "y = 0 # DeFacto Support Deprivation\n",
    "z = 0 # Domestic Support Deprivation\n",
    "a = 0 # Probability for receving support based upon ideology\n",
    "b = 0 # Probability for receiving support based upon objective\n",
    "c = 0 # Years after 25 BRD took place\n",
    "\n",
    "predictThrivingYears(x,y,z,a,b,c)"
   ]
  },
  {
   "cell_type": "code",
   "execution_count": 132,
   "metadata": {},
   "outputs": [
    {
     "name": "stdout",
     "output_type": "stream",
     "text": [
      "Predicted thriving years:  15.0114883781\n"
     ]
    }
   ],
   "source": [
    "# Test-cases - F\n",
    "\n",
    "x = 1 # Active Support Deprivation\n",
    "y = 1 # DeFacto Support Deprivation\n",
    "z = 1 # Domestic Support Deprivation\n",
    "a = 0.99 # Probability for receving support based upon ideology\n",
    "b = 0.99 # Probability for receiving support based upon objective\n",
    "c = 1 # Years after 25 BRD took place\n",
    "\n",
    "predictThrivingYears(x,y,z,a,b,c)"
   ]
  },
  {
   "cell_type": "code",
   "execution_count": 144,
   "metadata": {},
   "outputs": [
    {
     "name": "stdout",
     "output_type": "stream",
     "text": [
      "Predicted thriving years:  33.6246165768\n"
     ]
    }
   ],
   "source": [
    "# Test-cases - G\n",
    "\n",
    "x = 0 # Active Support Deprivation\n",
    "y = 0 # DeFacto Support Deprivation\n",
    "z = 0 # Domestic Support Deprivation\n",
    "a = 1 # Probability for receving support based upon ideology\n",
    "b = 1 # Probability for receiving support based upon objective\n",
    "c = 21 # Years after 25 BRD took place\n",
    "\n",
    "predictThrivingYears(x,y,z,a,b,c)"
   ]
  },
  {
   "cell_type": "code",
   "execution_count": null,
   "metadata": {},
   "outputs": [],
   "source": []
  }
 ],
 "metadata": {
  "kernelspec": {
   "display_name": "Python 3",
   "language": "python",
   "name": "python3"
  },
  "language_info": {
   "codemirror_mode": {
    "name": "ipython",
    "version": 3
   },
   "file_extension": ".py",
   "mimetype": "text/x-python",
   "name": "python",
   "nbconvert_exporter": "python",
   "pygments_lexer": "ipython3",
   "version": "3.6.3"
  }
 },
 "nbformat": 4,
 "nbformat_minor": 2
}
