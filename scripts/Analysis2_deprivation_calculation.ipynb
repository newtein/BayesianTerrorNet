{
 "cells": [
  {
   "cell_type": "code",
   "execution_count": 1,
   "metadata": {},
   "outputs": [],
   "source": [
    "import matplotlib.pyplot as plt\n",
    "import seaborn as sns\n",
    "import pickle\n",
    "import numpy as np\n",
    "import commonFunctions as cf\n",
    "from collections import OrderedDict"
   ]
  },
  {
   "cell_type": "code",
   "execution_count": 58,
   "metadata": {},
   "outputs": [],
   "source": [
    "def calculateWeight(a):\n",
    "    n=len(a)\n",
    "    count=1\n",
    "    num,denum=0,0\n",
    "    for i in a:\n",
    "        if i==0:\n",
    "            num+=count/n\n",
    "            #num+=1\n",
    "        denum+=count/n\n",
    "        #denum+=1\n",
    "        count+=1\n",
    "    return num/denum\n",
    "     \n",
    "def calculateThreshold(a,thresh):\n",
    "    num,denum=0,0\n",
    "    for i in a:\n",
    "        if i>=thresh:\n",
    "            num+=i\n",
    "        denum+=i\n",
    "    return num/denum\n",
    "\n",
    "def calculateStd(a):\n",
    "    n=len(a)\n",
    "    p=a.count(0)/n\n",
    "    return (p*(1-p))**0.5"
   ]
  },
  {
   "cell_type": "code",
   "execution_count": 3,
   "metadata": {},
   "outputs": [],
   "source": [
    "def getData(filterby):    \n",
    "    file=\"pipeFormat.csv\"\n",
    "    noLabel=['.','']\n",
    "    f=open(file,\"r\")\n",
    "    headers=f.readline().strip().split('|')\n",
    "    data={}\n",
    "    yearIndex=cf.getIndex('year')\n",
    "    nagcodeIndex=cf.getIndex('nagcode_1')\n",
    "    nagnameIndex=cf.getIndex('nag_name')\n",
    "    supportIndex=cf.getIndex(filterby)\n",
    "    for l in f:\n",
    "        row=l.split(\"|\")\n",
    "        year=int(row[yearIndex])\n",
    "        nagcode=int(row[nagcodeIndex])\n",
    "        nagname=row[nagnameIndex]\n",
    "        support = int(row[supportIndex]) if row[supportIndex] not in noLabel else 0\n",
    "        if nagcode not in data:\n",
    "            data[nagcode]=OrderedDict()\n",
    "        # data[nagcode][0]=nagname     \n",
    "        if year not in data[nagcode]:\n",
    "            data[nagcode][year]=0\n",
    "        data[nagcode][year]+=support\n",
    "    \n",
    "    f.close()\n",
    "\n",
    "    return data"
   ]
  },
  {
   "cell_type": "code",
   "execution_count": 10,
   "metadata": {},
   "outputs": [
    {
     "name": "stdout",
     "output_type": "stream",
     "text": [
      "s_safemem\n",
      "s_safelead\n",
      "s_headquar\n",
      "s_traincamp\n",
      "s_training\n",
      "s_weaponlog\n",
      "s_finaid\n",
      "s_transport\n",
      "s_troop\n",
      "ds_safemem\n",
      "ds_safelead\n",
      "ds_headquar\n",
      "ds_traincamp\n",
      "ds_training\n",
      "ds_weaponlog\n",
      "ds_finaid\n",
      "ds_transport\n",
      "domsup\n"
     ]
    }
   ],
   "source": [
    "filters, headers = cf.get_filters_headers()\n",
    "dead=cf.loadPickle('dead')\n",
    "for filterby in filters:  \n",
    "    data=getData(filterby)\n",
    "    wrapper={}\n",
    "    for nagcode in data:\n",
    "        if nagcode in dead:\n",
    "            temp=[data[nagcode][i] for i in data[nagcode]]\n",
    "            weight=calculateWeight(temp)\n",
    "            wrapper[nagcode]=weight\n",
    "    \n",
    "        \n",
    "    print(filterby)\n",
    "    cf.dumpPickle(filterby,wrapper)\n",
    "    \n",
    "organizationInfo={}\n",
    "for i in dead:\n",
    "    organizationInfo[i]=[]\n",
    "    for filterby in filters:\n",
    "        organizationInfo[i].append(None)\n",
    "        \n",
    "for filterby in filters:\n",
    "    index=filters.index(filterby)\n",
    "    wrapper=cf.loadPickle(filterby)\n",
    "    for nagcode in wrapper:\n",
    "        organizationInfo[nagcode][index]=wrapper[nagcode]\n",
    "        \n",
    "cf.dumpPickle('organizationInfo',organizationInfo)\n",
    "\n",
    "\n",
    "f = open(\"Deprivation_Score.csv\",'w',newline='')\n",
    "writer = csv.writer(f)\n",
    "new_headers = ['NAG_Code'] + filters\n",
    "writer.writerow(new_headers)\n",
    "for nagcode in organizationInfo:\n",
    "    row = [nagcode] + organizationInfo[nagcode]\n",
    "    writer.writerow(row)\n",
    "f.close()"
   ]
  },
  {
   "cell_type": "code",
   "execution_count": 62,
   "metadata": {},
   "outputs": [
    {
     "name": "stdout",
     "output_type": "stream",
     "text": [
      "s_safemem\n",
      "s_safelead\n",
      "s_headquar\n",
      "s_traincamp\n",
      "s_training\n",
      "s_weaponlog\n",
      "s_finaid\n",
      "s_transport\n",
      "s_troop\n",
      "ds_safemem\n",
      "ds_safelead\n",
      "ds_headquar\n",
      "ds_traincamp\n",
      "ds_training\n",
      "ds_weaponlog\n",
      "ds_finaid\n",
      "ds_transport\n",
      "domsup\n"
     ]
    }
   ],
   "source": [
    "# unstabiliy factor\n",
    "\n",
    "filters, headers = cf.get_filters_headers()\n",
    "dead=cf.loadPickle('dead')\n",
    "for filterby in filters:  \n",
    "    data=getData(filterby)\n",
    "    wrapper={}\n",
    "    for nagcode in data:\n",
    "        if nagcode in dead:\n",
    "            temp=[data[nagcode][i] for i in data[nagcode]]\n",
    "            weight=calculateStd(temp)\n",
    "            wrapper[nagcode]=weight\n",
    "    \n",
    "        \n",
    "    print(filterby)\n",
    "    cf.dumpPickle(filterby+\"_Std\",wrapper)\n",
    "    \n",
    "organizationInfo_Std={}\n",
    "for i in dead:\n",
    "    organizationInfo_Std[i]=[]\n",
    "    for filterby in filters:\n",
    "        organizationInfo_Std[i].append(None)\n",
    "        \n",
    "for filterby in filters:\n",
    "    index=filters.index(filterby)\n",
    "    wrapper=cf.loadPickle(filterby+\"_Std\")\n",
    "    for nagcode in wrapper:\n",
    "        organizationInfo_Std[nagcode][index]=wrapper[nagcode]\n",
    "        \n",
    "cf.dumpPickle('organizationInfo_Std',organizationInfo_Std)\n",
    "\n",
    "\n",
    "f = open(\"Unstabiliy_Factor.csv\",'w',newline='')\n",
    "writer = csv.writer(f)\n",
    "new_headers = ['NAG_Code'] + filters\n",
    "writer.writerow(new_headers)\n",
    "for nagcode in organizationInfo_Std:\n",
    "    row = [nagcode] + organizationInfo_Std[nagcode]\n",
    "    writer.writerow(row)\n",
    "f.close()\n"
   ]
  },
  {
   "cell_type": "code",
   "execution_count": 56,
   "metadata": {},
   "outputs": [
    {
     "name": "stdout",
     "output_type": "stream",
     "text": [
      "4 1.0\n"
     ]
    },
    {
     "data": {
      "text/plain": [
       "0.0"
      ]
     },
     "execution_count": 56,
     "metadata": {},
     "output_type": "execute_result"
    }
   ],
   "source": [
    "calculateStd([0,0,0,0])"
   ]
  },
  {
   "cell_type": "code",
   "execution_count": 50,
   "metadata": {},
   "outputs": [
    {
     "data": {
      "text/plain": [
       "0.5"
      ]
     },
     "execution_count": 50,
     "metadata": {},
     "output_type": "execute_result"
    }
   ],
   "source": [
    "((5/10) * (5/10))**0.5"
   ]
  },
  {
   "cell_type": "code",
   "execution_count": null,
   "metadata": {},
   "outputs": [],
   "source": []
  }
 ],
 "metadata": {
  "kernelspec": {
   "display_name": "Python 3",
   "language": "python",
   "name": "python3"
  },
  "language_info": {
   "codemirror_mode": {
    "name": "ipython",
    "version": 3
   },
   "file_extension": ".py",
   "mimetype": "text/x-python",
   "name": "python",
   "nbconvert_exporter": "python",
   "pygments_lexer": "ipython3",
   "version": "3.6.3"
  }
 },
 "nbformat": 4,
 "nbformat_minor": 2
}
