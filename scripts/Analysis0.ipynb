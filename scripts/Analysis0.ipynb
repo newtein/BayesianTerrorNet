{
 "cells": [
  {
   "cell_type": "code",
   "execution_count": 6,
   "metadata": {},
   "outputs": [],
   "source": [
    "from collections import OrderedDict\n",
    "import pickle\n",
    "import numpy as np\n",
    "import operator\n",
    "import commonFunctions as cf\n",
    "import csv\n",
    "import matplotlib.pyplot as plt"
   ]
  },
  {
   "cell_type": "code",
   "execution_count": 7,
   "metadata": {},
   "outputs": [],
   "source": [
    "def plot_boxplot(plt,tempList):\n",
    "    plt.close()\n",
    "    fig,ax=plt.subplots(figsize=(3,2),dpi=300)\n",
    "\n",
    "    plt,ax=cf.setplot(plt,ax)\n",
    "\n",
    "    plt.boxplot(tempList,whis=15)\n",
    "    ax.xaxis.set_ticks_position('none')\n",
    "    ax.yaxis.set_ticks_position('none')\n",
    "\n",
    "    ax.hlines(np.percentile(tempList,10),0.75,1.25,color='r',linewidth=0.5,label='10th Percentile',linestyle='--')\n",
    "    ax.hlines(np.mean(tempList),0.75,1.25,color='b',linewidth=0.7,label='Mean',linestyle='--')\n",
    "    ax.hlines(np.percentile(tempList,90),0.75,1.25,color='r',linewidth=0.5,label='90th Percentile',linestyle='--')\n",
    "    print(np.percentile(tempList,90),np.percentile(tempList,10))\n",
    "\n",
    "    plt.ylabel('Lifespan')\n",
    "    plt.legend(loc='upper right',prop={'size': 5})\n",
    "    plt.xticks([])\n",
    "    plt.savefig('sup_boxplot.png',bbox_inches='tight')\n",
    "    plt.show()\n",
    "    return"
   ]
  },
  {
   "cell_type": "code",
   "execution_count": null,
   "metadata": {},
   "outputs": [],
   "source": [
    "# Write file with names of terrorist organizations, first observation year, last observation year, and status\n",
    "\n",
    "f=open(\"pipeFormat.csv\",\"r\")\n",
    "next(f)\n",
    "yearIndex=cf.getIndex('year')\n",
    "nagcodeIndex=cf.getIndex('nagcode_1')\n",
    "nagnameIndex=cf.getIndex('nag_name')\n",
    "data = OrderedDict()\n",
    "name_lookup = {}\n",
    "for l in f:\n",
    "    row=l.split(\"|\")\n",
    "    year=int(row[yearIndex])\n",
    "    nagcode=int(row[nagcodeIndex])\n",
    "    nagname=row[nagnameIndex]\n",
    "    if nagcode not in data:\n",
    "        data[nagcode]=set()\n",
    "        name_lookup[nagcode] = nagname\n",
    "    data[nagcode].add(year)\n",
    "    \n",
    "fw = open(\"Organizations_Studied.csv\",\"w\",newline='')\n",
    "writer = csv.writer(fw)\n",
    "new_headers = ['NAG_Code','NAG_Name','First Observed Year','Last Observed Year','Status in 2010','Lifespan (in years)']\n",
    "writer.writerow(new_headers)\n",
    "\n",
    "for nagcode in data:\n",
    "    first_yr = min(data[nagcode])\n",
    "    last_yr = max(data[nagcode])\n",
    "    status = 'Alive' if last_yr == 2010 else \"Dead\"\n",
    "    duration = 'Null' if status==\"Alive\" else (last_yr - first_yr)+1\n",
    "    list_lt = [nagcode, name_lookup[nagcode],first_yr,last_yr,status,duration]\n",
    "    writer.writerow(list_lt)\n",
    "    \n",
    "fw.close()"
   ]
  },
  {
   "cell_type": "code",
   "execution_count": 20,
   "metadata": {},
   "outputs": [],
   "source": [
    "# make pickles for alive, dead, yearLength, year1 and year23\n",
    "\n",
    "alive, dead, yearLength, year1, year23 = [], [],{},[] ,[]\n",
    "yearDied = {}\n",
    "for i in range(1945,2010):\n",
    "    yearDied[i] = []\n",
    "\n",
    "f = open(\"Organizations_Studied.csv\",\"r\")\n",
    "reader = csv.reader(f,delimiter=',')\n",
    "next(reader)\n",
    "for row in reader:\n",
    "    nagcode = int(row[0])\n",
    "    syear = int(row[2])\n",
    "    eyear = int(row[3])\n",
    "    status = row[4]\n",
    "    lspan = row[5]\n",
    "    lspan = int(lspan) if lspan!='Null' else None\n",
    "    if status == 'Dead':\n",
    "        dead.append(nagcode)\n",
    "        yearLength[nagcode] = lspan\n",
    "       \n",
    "        yearDied[eyear].append(nagcode)\n",
    "\n",
    "    elif status == \"Alive\":\n",
    "        alive.append(nagcode)\n",
    "    if lspan:\n",
    "        if lspan<=1:\n",
    "            year1.append(nagcode)\n",
    "        if lspan>23:\n",
    "            year23.append(nagcode)\n",
    "        \n",
    "f.close() \n",
    "\n",
    "cf.dumpPickle('yearLength',yearLength)\n",
    "cf.dumpPickle('alive',alive)\n",
    "cf.dumpPickle('dead',dead)\n",
    "cf.dumpPickle('year1',year1)\n",
    "cf.dumpPickle('year23',year23)\n",
    "cf.dumpPickle('yearDied',yearDied)"
   ]
  },
  {
   "cell_type": "code",
   "execution_count": 8,
   "metadata": {},
   "outputs": [
    {
     "name": "stdout",
     "output_type": "stream",
     "text": [
      "(374, 9.4331550802139041, 1.0, 5.0, 23.699999999999989)\n",
      "23.7 1.0\n"
     ]
    },
    {
     "data": {
      "image/png": "[encoded data removed]",
      "text/plain": [
       "<matplotlib.figure.Figure at 0x5bb2b0>"
      ]
     },
     "metadata": {},
     "output_type": "display_data"
    }
   ],
   "source": [
    "# readind the above file and reporting statistics\n",
    "\n",
    "lifespan_lt = []\n",
    "f = open(\"Organizations_Studied.csv\",\"r\")\n",
    "reader = csv.reader(f,delimiter=',')\n",
    "next(reader)\n",
    "for row in reader:\n",
    "    lspan = row[-1]\n",
    "    if lspan!='Null':\n",
    "        lifespan_lt.append(int(lspan))\n",
    "        \n",
    "f.close()        \n",
    "stats = cf.get_basic_stats(lifespan_lt)\n",
    "print(stats)\n",
    "plot_boxplot(plt,lifespan_lt)"
   ]
  },
  {
   "cell_type": "code",
   "execution_count": null,
   "metadata": {},
   "outputs": [],
   "source": [
    "# stats for Total,10th and 90th percentile\n",
    "\n",
    "print(\"Total\",len(lifespan_lt),np.mean(lifespan_lt),np.std(lifespan_lt))\n",
    "\n",
    "temp = []\n",
    "for year in lifespan_lt:\n",
    "    if year>23:\n",
    "        temp.append(year)\n",
    "print(\"90th P\",len(temp),np.mean(temp),np.std(temp))   \n",
    "\n",
    "temp = []\n",
    "for year in lifespan_lt:\n",
    "    if year<=1:\n",
    "        temp.append(year)\n",
    "print(\"10th P\",len(temp),np.mean(temp),np.std(temp)) "
   ]
  },
  {
   "cell_type": "code",
   "execution_count": null,
   "metadata": {},
   "outputs": [],
   "source": [
    "# Stats for Alive and Total 459\n",
    "\n",
    "temp = []\n",
    "f = open(\"Organizations_Studied.csv\",\"r\")\n",
    "reader = csv.reader(f,delimiter=',')\n",
    "next(reader)\n",
    "for row in reader:\n",
    "    lspan = row[-1]\n",
    "    status = row[-2]\n",
    "    first_year = int(row[2])\n",
    "    end_year = int(row[3])\n",
    "    if status=='Alive':\n",
    "        temp.append((end_year-first_year)+1)\n",
    "print(\"Alive\",len(temp),np.mean(temp),np.std(temp)) \n",
    "f.close()\n",
    "\n",
    "temp = []\n",
    "f = open(\"Organizations_Studied.csv\",\"r\")\n",
    "reader = csv.reader(f,delimiter=',')\n",
    "next(reader)\n",
    "for row in reader:\n",
    "    lspan = row[-1]\n",
    "    status = row[-2]\n",
    "    first_year = int(row[2])\n",
    "    end_year = int(row[3])\n",
    "  \n",
    "    temp.append((end_year-first_year)+1)\n",
    "print(\"Total 459\",len(temp),np.mean(temp),np.std(temp)) \n",
    "f.close()"
   ]
  },
  {
   "cell_type": "code",
   "execution_count": null,
   "metadata": {},
   "outputs": [],
   "source": [
    "getDetails()"
   ]
  },
  {
   "cell_type": "code",
   "execution_count": null,
   "metadata": {},
   "outputs": [],
   "source": [
    "len(lifespan_lt)"
   ]
  },
  {
   "cell_type": "code",
   "execution_count": null,
   "metadata": {},
   "outputs": [],
   "source": [
    "temp = [i for i in lifespan_lt if i<3]\n",
    "print(\"<3\",len(temp),np.mean(temp),np.std(temp))"
   ]
  },
  {
   "cell_type": "code",
   "execution_count": 5,
   "metadata": {},
   "outputs": [
    {
     "ename": "NameError",
     "evalue": "name 'lifespan_lt' is not defined",
     "output_type": "error",
     "traceback": [
      "\u001b[1;31m---------------------------------------------------------------------------\u001b[0m",
      "\u001b[1;31mNameError\u001b[0m                                 Traceback (most recent call last)",
      "\u001b[1;32m<ipython-input-5-ea2a26dbdd0f>\u001b[0m in \u001b[0;36m<module>\u001b[1;34m()\u001b[0m\n\u001b[1;32m----> 1\u001b[1;33m \u001b[1;36m122\u001b[0m\u001b[1;33m/\u001b[0m\u001b[0mlen\u001b[0m\u001b[1;33m(\u001b[0m\u001b[0mlifespan_lt\u001b[0m\u001b[1;33m)\u001b[0m\u001b[1;33m\u001b[0m\u001b[0m\n\u001b[0m",
      "\u001b[1;31mNameError\u001b[0m: name 'lifespan_lt' is not defined"
     ]
    }
   ],
   "source": [
    "122/len(lifespan_lt)"
   ]
  },
  {
   "cell_type": "code",
   "execution_count": 16,
   "metadata": {},
   "outputs": [
    {
     "data": {
      "text/plain": [
       "13.75"
      ]
     },
     "execution_count": 16,
     "metadata": {},
     "output_type": "execute_result"
    }
   ],
   "source": [
    "np.percentile(lifespan_lt,75)"
   ]
  },
  {
   "cell_type": "code",
   "execution_count": null,
   "metadata": {},
   "outputs": [],
   "source": []
  }
 ],
 "metadata": {
  "kernelspec": {
   "display_name": "Python 3",
   "language": "python",
   "name": "python3"
  },
  "language_info": {
   "codemirror_mode": {
    "name": "ipython",
    "version": 3
   },
   "file_extension": ".py",
   "mimetype": "text/x-python",
   "name": "python",
   "nbconvert_exporter": "python",
   "pygments_lexer": "ipython3",
   "version": "3.6.3"
  }
 },
 "nbformat": 4,
 "nbformat_minor": 2
}
